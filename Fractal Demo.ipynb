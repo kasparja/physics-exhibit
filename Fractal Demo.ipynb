{
 "cells": [
  {
   "cell_type": "markdown",
   "id": "1c08f254",
   "metadata": {},
   "source": [
    "# Imports"
   ]
  },
  {
   "cell_type": "code",
   "execution_count": 1,
   "id": "0103d5a9",
   "metadata": {},
   "outputs": [],
   "source": [
    "from IPython.display import display\n",
    "from IPython.display import Image as IPImage\n",
    "from PIL import Image, ImageDraw, ImageTk\n",
    "import math\n",
    "import tkinter as tk"
   ]
  },
  {
   "cell_type": "markdown",
   "id": "2f5f51cb",
   "metadata": {},
   "source": [
    "# Fractal Generation"
   ]
  },
  {
   "cell_type": "code",
   "execution_count": 2,
   "id": "73ceb88f",
   "metadata": {},
   "outputs": [
    {
     "data": {
      "image/png": "[encoded data removed]",
      "text/plain": [
       "<IPython.core.display.Image object>"
      ]
     },
     "metadata": {},
     "output_type": "display_data"
    }
   ],
   "source": [
    "class FractalTreeGenerator:\n",
    "    def __init__(self):\n",
    "        self.root = tk.Tk()\n",
    "        self.root.title(\"Fractal Tree Generator\")\n",
    "        self.image = None\n",
    "\n",
    "        # Default parameters\n",
    "        self.trunk_length = tk.DoubleVar(value=100)\n",
    "        self.trunk_angle = tk.DoubleVar(value=90)\n",
    "        self.branch_ratio = tk.DoubleVar(value=0.7)\n",
    "        self.max_depth = tk.IntVar(value=6)\n",
    "\n",
    "        # Create GUI elements\n",
    "        self.create_widgets()\n",
    "\n",
    "    def create_widgets(self):\n",
    "        # Create a scrollable canvas\n",
    "        canvas_frame = tk.Frame(self.root)\n",
    "        canvas_frame.pack(fill=tk.BOTH, expand=tk.YES)\n",
    "\n",
    "        self.canvas = tk.Canvas(canvas_frame, scrollregion=(0, 0, 800, 600), width=800, height=600, bg=\"white\")\n",
    "        self.canvas.pack(side=tk.LEFT, fill=tk.BOTH, expand=tk.YES)\n",
    "\n",
    "        # Add a scrollbar to the canvas\n",
    "        scrollbar = tk.Scrollbar(canvas_frame, command=self.canvas.yview)\n",
    "        scrollbar.pack(side=tk.RIGHT, fill=tk.Y)\n",
    "        self.canvas.config(yscrollcommand=scrollbar.set)\n",
    "\n",
    "        # Label and sliders for parameters\n",
    "        tk.Label(self.canvas, text=\"Trunk Length\").pack()\n",
    "        tk.Scale(self.canvas, from_=10, to=200, variable=self.trunk_length, orient=\"horizontal\").pack()\n",
    "\n",
    "        tk.Label(self.canvas, text=\"Trunk Angle\").pack()\n",
    "        tk.Scale(self.canvas, from_=0, to=180, variable=self.trunk_angle, orient=\"horizontal\").pack()\n",
    "\n",
    "        tk.Label(self.canvas, text=\"Branch Ratio\").pack()\n",
    "        tk.Scale(self.canvas, from_=0.1, to=1.0, resolution=0.1, variable=self.branch_ratio, orient=\"horizontal\").pack()\n",
    "\n",
    "        tk.Label(self.canvas, text=\"Max Depth\").pack()\n",
    "        tk.Scale(self.canvas, from_=1, to=10, variable=self.max_depth, orient=\"horizontal\").pack()\n",
    "\n",
    "        # Button to generate and display the fractal tree\n",
    "        tk.Button(self.canvas, text=\"Generate Fractal Tree\", command=self.draw_fractal_tree).pack()\n",
    "\n",
    "        # Button to save the generated image\n",
    "        tk.Button(self.canvas, text=\"Save Image\", command=self.save_image).pack()\n",
    "\n",
    "        # Start the Tkinter event loop\n",
    "        self.root.mainloop()\n",
    "\n",
    "    def draw_fractal_tree(self):\n",
    "        # Clear previous drawing\n",
    "        self.canvas.delete(\"all\")\n",
    "\n",
    "        # Initialize a new ImageDraw object\n",
    "        image = Image.new(\"RGB\", (800, 600), \"white\")\n",
    "        draw = ImageDraw.Draw(image)\n",
    "\n",
    "        # Draw the fractal tree\n",
    "        self._draw_branch(400, 600, self.trunk_length.get(), self.trunk_angle.get(), 0, draw)\n",
    "\n",
    "        # Save the original Image object\n",
    "        self.image = image\n",
    "\n",
    "        # Convert the PIL Image to a Tkinter-compatible PhotoImage\n",
    "        self.photo_image = ImageTk.PhotoImage(image)\n",
    "\n",
    "        # Display the image on the canvas\n",
    "        self.canvas.create_image(0, 0, anchor=tk.NW, image=self.photo_image)\n",
    "        self.canvas.config(scrollregion=self.canvas.bbox(tk.ALL))  # Update scroll region\n",
    "\n",
    "    def _draw_branch(self, x, y, length, angle, depth, draw):\n",
    "        if depth == self.max_depth.get():\n",
    "            return\n",
    "\n",
    "        x_end = x + length * math.sin(math.radians(angle))\n",
    "        y_end = y - length * math.cos(math.radians(angle))\n",
    "\n",
    "        draw.line([(x, y), (x_end, y_end)], fill=\"black\", width=2)\n",
    "\n",
    "        new_length = length * self.branch_ratio.get()\n",
    "\n",
    "        self._draw_branch(x_end, y_end, new_length, angle - 20, depth + 1, draw)\n",
    "        self._draw_branch(x_end, y_end, new_length, angle + 20, depth + 1, draw)\n",
    "\n",
    "    def save_image(self):\n",
    "        # Check if the image has been generated\n",
    "        if self.image:\n",
    "            # Save the generated image\n",
    "            filename = \"fractal_tree.png\"\n",
    "            self.image.save(filename)\n",
    "\n",
    "            # Open the saved image using PIL\n",
    "            saved_image = Image.open(filename)\n",
    "\n",
    "            # Convert the PIL Image to a Tkinter-compatible PhotoImage\n",
    "            saved_photo_image = ImageTk.PhotoImage(saved_image)\n",
    "\n",
    "            # Display the saved image on the canvas\n",
    "            self.canvas.create_image(0, 0, anchor=tk.NW, image=saved_photo_image)\n",
    "            self.canvas.config(scrollregion=self.canvas.bbox(tk.ALL))  # Update scroll region\n",
    "        else:\n",
    "            print(\"Please generate the fractal tree first.\")\n",
    "\n",
    "def display_file(filename='fractal_tree.png'):\n",
    "    with open(filename, 'rb') as f:\n",
    "        display(IPImage(data=f.read(), format='png'))\n",
    "\n",
    "if __name__ == \"__main__\":\n",
    "    FractalTreeGenerator()\n",
    "    display_file()"
   ]
  }
 ],
 "metadata": {
  "kernelspec": {
   "display_name": "Python 3 (ipykernel)",
   "language": "python",
   "name": "python3"
  },
  "language_info": {
   "codemirror_mode": {
    "name": "ipython",
    "version": 3
   },
   "file_extension": ".py",
   "mimetype": "text/x-python",
   "name": "python",
   "nbconvert_exporter": "python",
   "pygments_lexer": "ipython3",
   "version": "3.8.18"
  }
 },
 "nbformat": 4,
 "nbformat_minor": 5
}
